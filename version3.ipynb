{
 "cells": [
  {
   "cell_type": "code",
   "execution_count": 5,
   "metadata": {},
   "outputs": [],
   "source": [
    "import random\n",
    "import string"
   ]
  },
  {
   "cell_type": "code",
   "execution_count": 6,
   "metadata": {},
   "outputs": [],
   "source": [
    "class Candidate(object):\n",
    "    def __init__(self, genotype, target):\n",
    "        self.genotype = list(genotype)\n",
    "        self.target = target\n",
    "\n",
    "    def fitness(self):\n",
    "        fitval = 0\n",
    "        for i in range(0, len(self.genotype)):\n",
    "            fitval += (ord(self.target[i]) - ord(self.genotype[i])) ** 2\n",
    "        return(fitval)\n",
    "\n",
    "    def mutate(self, probability=0.1, distance=1):\n",
    "        for pos in range(len(self.genotype)):\n",
    "            if random.random() < probability:\n",
    "                self.genotype[pos] = chr(\n",
    "                    ord(self.genotype[pos]) + random.randint(-distance, distance)\n",
    "                )\n",
    "\n",
    "    def crossover(self, partner):\n",
    "        start = random.randint(0, len(partner.genotype) - 1)\n",
    "        end = random.randint(0, len(partner.genotype) -1)\n",
    "        if start > end:\n",
    "            stop, end = start, end\n",
    "        child_genotype = self.genotype[:]\n",
    "        child_genotype[start:end] = partner.genotype[start:end]\n",
    "        return(self.__class__(child_genotype, self.target))\n",
    "\n",
    "    def __repr__(self):\n",
    "        return('%7i  %s' % (self.fitness(), ''.join(self.genotype)))\n"
   ]
  },
  {
   "cell_type": "code",
   "execution_count": 7,
   "metadata": {},
   "outputs": [],
   "source": [
    "class Population(object):\n",
    "    def __init__(self, candidate, target, size=20, max_generations=5000):\n",
    "        self.candidate = candidate\n",
    "        self.size = size\n",
    "        self.target = target\n",
    "        self.generation = 0\n",
    "        self.population = self.gen_population(self.size)\n",
    "        self.max_generations = max_generations\n",
    "\n",
    "    def evolve(self):\n",
    "        while True:\n",
    "            self.population.sort(key = lambda candidate: candidate.fitness())\n",
    "\n",
    "            if self.population[0].fitness() == 0:\n",
    "                return(self.generation)\n",
    "\n",
    "            if self.generation == self.max_generations:\n",
    "                return(False)\n",
    "\n",
    "            self.generation += 1\n",
    "\n",
    "            rnd1 = int(random.random() * random.random() * (self.size -1))\n",
    "            rnd2 = int(random.random() * random.random() * (self.size -1))\n",
    "            parent1 = self.population[rnd1]\n",
    "            parent2 = self.population[rnd2]\n",
    "            child = parent1.crossover(parent2)\n",
    "            child.mutate()\n",
    "\n",
    "            if child.fitness() < self.population[-1].fitness():\n",
    "                self.population[-1] = child\n",
    "\n",
    "    def gen_candidate(self, target):\n",
    "        return(\n",
    "            self.candidate(\n",
    "                [random.choice(string.printable[:-5]) for j in range(len(target))],\n",
    "                target\n",
    "            )\n",
    "        )\n",
    "\n",
    "    def gen_population(self, size):\n",
    "        population = []\n",
    "        for i in range(size):\n",
    "            population.append(self.gen_candidate(self.target))\n",
    "        return(population)\n",
    "\n",
    "    def __repr__(self):\n",
    "        return(\n",
    "            '\\n'.join(\n",
    "                ['%7i  %7i  %s' % (self.generation, c.fitness(), ''.join(c.genotype)) for c in self.population]\n",
    "            )\n",
    "        )\n"
   ]
  },
  {
   "cell_type": "code",
   "execution_count": 8,
   "metadata": {},
   "outputs": [],
   "source": [
    "def run(target, probability, distance):\n",
    "    class CustomCandidate(Candidate):\n",
    "        def mutate(self, probability=probability, distance=distance):\n",
    "            return(Candidate.mutate(self, probability, distance))\n",
    "\n",
    "    population = Population(CustomCandidate, target)\n",
    "    generations = population.evolve()\n",
    "\n",
    "    tmpl = \"Target %s (probability=%f, distance=%i) within %i generations\"\n",
    "    if not generations:\n",
    "        tmpl = tmpl % (\"not reached\", probability, distance, population.generation)\n",
    "    else:\n",
    "        tmpl = tmpl % (\"reached\", probability, distance, population.generation)\n",
    "    print(tmpl)"
   ]
  },
  {
   "cell_type": "code",
   "execution_count": 9,
   "metadata": {},
   "outputs": [
    {
     "name": "stdout",
     "output_type": "stream",
     "text": [
      "Target reached (probability=0.100000, distance=1) within 2560 generations\n"
     ]
    }
   ],
   "source": [
    "run('Hello, World!', 0.1, 1)"
   ]
  },
  {
   "cell_type": "code",
   "execution_count": null,
   "metadata": {},
   "outputs": [],
   "source": []
  }
 ],
 "metadata": {
  "kernelspec": {
   "display_name": "Python 3",
   "language": "python",
   "name": "python3"
  },
  "language_info": {
   "codemirror_mode": {
    "name": "ipython",
    "version": 3
   },
   "file_extension": ".py",
   "mimetype": "text/x-python",
   "name": "python",
   "nbconvert_exporter": "python",
   "pygments_lexer": "ipython3",
   "version": "3.6.2"
  }
 },
 "nbformat": 4,
 "nbformat_minor": 2
}
